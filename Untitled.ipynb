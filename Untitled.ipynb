{
 "cells": [
  {
   "cell_type": "code",
   "execution_count": null,
   "id": "5e19ad24-23ad-4cc3-96d3-6d98321c43d6",
   "metadata": {},
   "outputs": [],
   "source": [
    "import ipyparams\n",
    "currentNotebook = ipyparams.notebook_name\n",
    "print(currentNotebook)"
   ]
  },
  {
   "cell_type": "code",
   "execution_count": null,
   "id": "0f1d3f27-6bcb-49af-8940-b7a2cbe733af",
   "metadata": {},
   "outputs": [],
   "source": [
    "%%javascript\n",
    "IPython.notebook.kernel.execute('nb_name = \"' + IPython.notebook.notebook_name + '\"')"
   ]
  },
  {
   "cell_type": "code",
   "execution_count": null,
   "id": "b2f31308-e7de-41a2-abb2-1865278eacf4",
   "metadata": {},
   "outputs": [],
   "source": [
    "import json\n",
    "import os\n",
    "import urllib2\n",
    "import IPython\n",
    "from IPython.lib import kernel\n",
    "connection_file_path = kernel.get_connection_file()\n",
    "connection_file = os.path.basename(connection_file_path)\n",
    "kernel_id = connection_file.split('-', 1)[1].split('.')[0]"
   ]
  },
  {
   "cell_type": "code",
   "execution_count": 1,
   "id": "9ae00105-2bb9-4e43-9065-a482bd8b9a75",
   "metadata": {},
   "outputs": [
    {
     "name": "stdout",
     "output_type": "stream",
     "text": [
      "Untitled\n"
     ]
    }
   ],
   "source": [
    "import ipynbname\n",
    "nb_fname = ipynbname.name()\n",
    "print(nb_fname)"
   ]
  },
  {
   "cell_type": "code",
   "execution_count": null,
   "id": "7d401162-12a1-48d8-9071-f75cb1f965a2",
   "metadata": {},
   "outputs": [],
   "source": [
    "pip install ipynbname"
   ]
  },
  {
   "cell_type": "code",
   "execution_count": null,
   "id": "b32e2139-d07e-4435-aeae-ffd2d352eb02",
   "metadata": {},
   "outputs": [],
   "source": []
  }
 ],
 "metadata": {
  "kernelspec": {
   "display_name": "Python 3 (ipykernel)",
   "language": "python",
   "name": "python3"
  },
  "language_info": {
   "codemirror_mode": {
    "name": "ipython",
    "version": 3
   },
   "file_extension": ".py",
   "mimetype": "text/x-python",
   "name": "python",
   "nbconvert_exporter": "python",
   "pygments_lexer": "ipython3",
   "version": "3.11.5"
  }
 },
 "nbformat": 4,
 "nbformat_minor": 5
}
